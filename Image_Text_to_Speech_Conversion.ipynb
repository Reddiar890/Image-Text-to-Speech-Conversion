{
  "nbformat": 4,
  "nbformat_minor": 0,
  "metadata": {
    "colab": {
      "provenance": []
    },
    "kernelspec": {
      "name": "python3",
      "display_name": "Python 3"
    },
    "language_info": {
      "name": "python"
    }
  },
  "cells": [
    {
      "cell_type": "code",
      "execution_count": 2,
      "metadata": {
        "id": "4ePnpBQHk7Vc"
      },
      "outputs": [],
      "source": [
        "import cv2\n",
        "import easyocr\n",
        "from googletrans import Translator\n",
        "import time\n",
        "import pyttsx3\n",
        "\n",
        "\n",
        "reader = easyocr.Reader(['en'], gpu=False)\n",
        "translator = Translator()\n",
        "engine = pyttsx3.init()\n",
        "\n",
        "def translate_text(text):\n",
        "    if text:\n",
        "        translated_text = translator.translate(text, src='auto', dest='en')\n",
        "        return translated_text.text\n",
        "    else:\n",
        "        return None\n",
        "\n",
        "def ocr_and_translate(image):\n",
        "\n",
        "    result = reader.readtext(image)\n",
        "\n",
        "\n",
        "    translated_texts = [translate_text(text[1]) for text in result]\n",
        "\n",
        "    return translated_texts\n",
        "\n",
        "if _name_ == \"_main_\":\n",
        "\n",
        "    cap = cv2.VideoCapture(0)\n",
        "\n",
        "    while True:\n",
        "\n",
        "        ret, frame = cap.read()\n",
        "\n",
        "        if not ret:\n",
        "            print(\"Error: Unable to capture frame. Exiting...\")\n",
        "            break\n",
        "\n",
        "\n",
        "        cv2.imshow('Camera Feed', frame)\n",
        "\n",
        "\n",
        "        translated_texts = ocr_and_translate(frame)\n",
        "\n",
        "        if translated_texts:\n",
        "\n",
        "            for text in translated_texts:\n",
        "                print(\"Translated Text:\", text)\n",
        "\n",
        "\n",
        "                engine.say(text)\n",
        "                engine.runAndWait()\n",
        "        else:\n",
        "            print(\"No text detected or translation failed.\")\n",
        "\n",
        "\n",
        "        time.sleep(5)\n",
        "\n",
        "\n",
        "        if cv2.waitKey(1) & 0xFF == ord('q'):\n",
        "            break\n",
        "\n",
        "\n",
        "    cap.release()\n",
        "    cv2.destroyAllWindows()"
      ]
    }
  ]
}